{
 "cells": [
  {
   "cell_type": "markdown",
   "metadata": {},
   "source": [
    "# 1. import module into python"
   ]
  },
  {
   "cell_type": "code",
   "execution_count": 1,
   "metadata": {},
   "outputs": [],
   "source": [
    "import numpy as np\n",
    "import pandas as pd\n",
    "import matplotlib.pyplot as plt\n",
    "import seaborn as sns\n",
    "import ipywidgets\n",
    "import os\n",
    "import sys\n",
    "import warnings\n",
    "import pickle\n",
    "import datetime\n",
    "from tabletree import TableNode, TableTree, TableLink"
   ]
  },
  {
   "cell_type": "markdown",
   "metadata": {},
   "source": [
    "# 2. load data into python"
   ]
  },
  {
   "cell_type": "code",
   "execution_count": 2,
   "metadata": {
    "scrolled": true
   },
   "outputs": [],
   "source": [
    "with open('sah_dataset/ehr_tree.pkl', 'rb') as f:\n",
    "    ehr_tree = pickle.load(f)"
   ]
  },
  {
   "cell_type": "code",
   "execution_count": 5,
   "metadata": {},
   "outputs": [
    {
     "data": {
      "text/plain": [
       "<tabletree.tabletree.TableTree at 0x1df8878ae10>"
      ]
     },
     "execution_count": 5,
     "metadata": {},
     "output_type": "execute_result"
    }
   ],
   "source": [
    "ehr_tree"
   ]
  },
  {
   "cell_type": "code",
   "execution_count": null,
   "metadata": {
    "scrolled": true
   },
   "outputs": [],
   "source": [
    "# ehr_tree have three tables: patient,encounter and diagnosis \n",
    "ehr_tree.getTN('patient').df.head()"
   ]
  },
  {
   "cell_type": "code",
   "execution_count": null,
   "metadata": {
    "scrolled": true
   },
   "outputs": [],
   "source": [
    "ehr_tree.getTN('encounter').df.head()"
   ]
  },
  {
   "cell_type": "code",
   "execution_count": null,
   "metadata": {},
   "outputs": [],
   "source": [
    "enc_df['discharge_disposition_id'].value_counts()"
   ]
  },
  {
   "cell_type": "code",
   "execution_count": null,
   "metadata": {},
   "outputs": [],
   "source": [
    "ehr_tree.getTN('diagnosis').df.head()"
   ]
  },
  {
   "cell_type": "code",
   "execution_count": 3,
   "metadata": {},
   "outputs": [],
   "source": [
    "pat_df = ehr_tree.getTN('patient').df\n",
    "enc_df = ehr_tree.getTN('encounter').df\n",
    "dia_df = ehr_tree.getTN('diagnosis').df"
   ]
  },
  {
   "cell_type": "code",
   "execution_count": null,
   "metadata": {
    "scrolled": true
   },
   "outputs": [],
   "source": [
    "enc_df.loc[enc_df['encounter_id'] == 154352309]"
   ]
  },
  {
   "cell_type": "code",
   "execution_count": null,
   "metadata": {},
   "outputs": [],
   "source": [
    "dia_df.loc[dia_df['encounter_id'] == 154352309]"
   ]
  },
  {
   "cell_type": "code",
   "execution_count": null,
   "metadata": {},
   "outputs": [],
   "source": [
    "pat_df.head(10)\n",
    "pat_df.dtypes\n",
    "pat_df.sort_values(by='patient_sk')\n",
    "## find that one patient_sk might have different patient_id"
   ]
  },
  {
   "cell_type": "markdown",
   "metadata": {},
   "source": [
    "# 3.merge three tables"
   ]
  },
  {
   "cell_type": "code",
   "execution_count": null,
   "metadata": {
    "scrolled": true
   },
   "outputs": [],
   "source": [
    "#first merge diagnosis table to encounter table(remove some columns we don't need)\n",
    "enc_dia_df = pd.merge(enc_df[['encounter_id','patient_id','admitted_dt_tm','discharged_dt_tm']],\n",
    "                      dia_df[['encounter_id','diagnosis_id','diagnosis_type_id']],\n",
    "                      on = 'encounter_id',\n",
    "                      how = \"left\",\n",
    "                      indicator=True\n",
    "                     )\n",
    "enc_dia_df.head()"
   ]
  },
  {
   "cell_type": "code",
   "execution_count": null,
   "metadata": {},
   "outputs": [],
   "source": [
    "enc_dia_df2['_merge'].value_counts()"
   ]
  },
  {
   "cell_type": "code",
   "execution_count": null,
   "metadata": {},
   "outputs": [],
   "source": [
    "enc_dia_df.shape"
   ]
  },
  {
   "cell_type": "code",
   "execution_count": null,
   "metadata": {},
   "outputs": [],
   "source": [
    "enc_dia_df2.shape"
   ]
  },
  {
   "cell_type": "code",
   "execution_count": null,
   "metadata": {},
   "outputs": [],
   "source": [
    "enc_dia_df.head()"
   ]
  },
  {
   "cell_type": "code",
   "execution_count": null,
   "metadata": {},
   "outputs": [],
   "source": [
    "## check merge results, notice 117329 NA for diagnosis_id and diagnosis_type_id(means patient without diagnosis)\n",
    "## for admitted_df 22543 NA means 22543 encounter have no record of time enter the study\n",
    "enc_dia_df.isnull().sum()"
   ]
  },
  {
   "cell_type": "code",
   "execution_count": null,
   "metadata": {
    "scrolled": true
   },
   "outputs": [],
   "source": [
    "##also from \"_merge\" column can see 117329 row not match to any diagnosis id\n",
    "enc_dia_df['_merge'].value_counts()"
   ]
  },
  {
   "cell_type": "code",
   "execution_count": null,
   "metadata": {},
   "outputs": [],
   "source": [
    "enc_dia_df.drop(\"_merge\", axis=1,inplace=True)"
   ]
  },
  {
   "cell_type": "code",
   "execution_count": null,
   "metadata": {},
   "outputs": [],
   "source": [
    "enc_dia_df.head()"
   ]
  },
  {
   "cell_type": "code",
   "execution_count": null,
   "metadata": {},
   "outputs": [],
   "source": [
    "## then merge enc_dia_df with patients_df table\n",
    "pat_enc_dia_df = pd.merge(pat_df[['patient_id','patient_sk']],\n",
    "                          enc_dia_df,\n",
    "                          on = 'patient_id',\n",
    "                          how = \"left\",\n",
    "                          indicator=True\n",
    "                         )\n",
    "pat_enc_dia_df.head()"
   ]
  },
  {
   "cell_type": "code",
   "execution_count": null,
   "metadata": {
    "scrolled": true
   },
   "outputs": [],
   "source": [
    "pat_enc_dia_df.head(30)"
   ]
  },
  {
   "cell_type": "code",
   "execution_count": null,
   "metadata": {},
   "outputs": [],
   "source": [
    "c = pat_enc_dia_df['diagnosis_id'].unique()"
   ]
  },
  {
   "cell_type": "code",
   "execution_count": null,
   "metadata": {},
   "outputs": [],
   "source": [
    "len(c)"
   ]
  },
  {
   "cell_type": "code",
   "execution_count": null,
   "metadata": {
    "scrolled": true
   },
   "outputs": [],
   "source": [
    "## no missing data this time, which means every patient has a matched encounter id\n",
    "pat_enc_dia_df.isnull().sum()"
   ]
  },
  {
   "cell_type": "code",
   "execution_count": null,
   "metadata": {},
   "outputs": [],
   "source": [
    "##also from check '_merge' column show same result\n",
    "pat_enc_dia_df['_merge'].value_counts()"
   ]
  },
  {
   "cell_type": "code",
   "execution_count": null,
   "metadata": {
    "scrolled": true
   },
   "outputs": [],
   "source": [
    "## now remove rows with NA\n",
    "pat_enc_dia_df.dropna(inplace=True)"
   ]
  },
  {
   "cell_type": "code",
   "execution_count": null,
   "metadata": {},
   "outputs": [],
   "source": [
    "pat_enc_dia_df.drop(\"_merge\", axis=1,inplace=True)"
   ]
  },
  {
   "cell_type": "code",
   "execution_count": null,
   "metadata": {},
   "outputs": [],
   "source": [
    "##split dataframe into many dataframes, each one is for one patient_sk, storage dfs into a list\n",
    "pat_enc_dia_ls = [df for each_patient, df in pat_enc_dia_df.groupby(\"patient_sk\")]"
   ]
  },
  {
   "cell_type": "code",
   "execution_count": null,
   "metadata": {},
   "outputs": [],
   "source": [
    "pat_enc_dia_ls[0].head()"
   ]
  },
  {
   "cell_type": "markdown",
   "metadata": {},
   "source": [
    "# 4. sort descending, convert time format, use latest time as 0"
   ]
  },
  {
   "cell_type": "code",
   "execution_count": null,
   "metadata": {
    "scrolled": true
   },
   "outputs": [],
   "source": [
    "#for each df, set the lasted discharged time to be 0\n",
    "for i in range (0, len(pat_enc_dia_ls)):\n",
    "    a = pat_enc_dia_ls[i]\n",
    "    #sort pat_enc_dia_ls[i] by time\n",
    "    a.sort_values('discharged_dt_tm', ascending = False, inplace = True)\n",
    "    a = a.reset_index(drop=True)\n",
    "    #### convert time column into datetime format\n",
    "    a['discharged_dt_tm'] = pd.to_datetime(a['discharged_dt_tm'], format='%Y-%m-%d %H:%M:%S')\n",
    "    a['time_diff'] = a.loc[0,'discharged_dt_tm'] - a['discharged_dt_tm']\n",
    "    a['time_diff'] = a['time_diff']/np.timedelta64(1,'D')\n",
    "    a['time_diff'] = round(a['time_diff'])\n",
    "    pat_enc_dia_ls[i] = a"
   ]
  },
  {
   "cell_type": "code",
   "execution_count": null,
   "metadata": {},
   "outputs": [],
   "source": [
    "pat_enc_dia_ls[0]"
   ]
  },
  {
   "cell_type": "code",
   "execution_count": null,
   "metadata": {},
   "outputs": [],
   "source": [
    "pat_enc_dia_ls[90]"
   ]
  },
  {
   "cell_type": "markdown",
   "metadata": {},
   "source": [
    "# 5. count top 200 diagnosis id"
   ]
  },
  {
   "cell_type": "code",
   "execution_count": null,
   "metadata": {},
   "outputs": [],
   "source": [
    "##subset to get dia_df with 200 diag id"
   ]
  },
  {
   "cell_type": "code",
   "execution_count": 28,
   "metadata": {
    "scrolled": true
   },
   "outputs": [],
   "source": [
    "dia_id_dict = dia_df['diagnosis_id'].value_counts()"
   ]
  },
  {
   "cell_type": "code",
   "execution_count": 29,
   "metadata": {},
   "outputs": [],
   "source": [
    "dia_id = dia_id_dict.keys()"
   ]
  },
  {
   "cell_type": "code",
   "execution_count": 30,
   "metadata": {},
   "outputs": [],
   "source": [
    "top_dia_id = dia_id[0:200]"
   ]
  },
  {
   "cell_type": "code",
   "execution_count": 31,
   "metadata": {},
   "outputs": [],
   "source": [
    "top_dia_df = dia_df.loc[dia_df['diagnosis_id'].isin(top_dia_id)]"
   ]
  },
  {
   "cell_type": "code",
   "execution_count": null,
   "metadata": {
    "scrolled": false
   },
   "outputs": [],
   "source": [
    "top_dia_df.head()"
   ]
  },
  {
   "cell_type": "code",
   "execution_count": null,
   "metadata": {},
   "outputs": [],
   "source": [
    "pat_df.head()"
   ]
  },
  {
   "cell_type": "code",
   "execution_count": null,
   "metadata": {
    "scrolled": true
   },
   "outputs": [],
   "source": [
    "enc_df.head()"
   ]
  },
  {
   "cell_type": "code",
   "execution_count": 4,
   "metadata": {},
   "outputs": [],
   "source": [
    "#merge encounter and patient table for medgan\n",
    "pat_enc_df = pd.merge(pat_df,\n",
    "                      enc_df[['encounter_id','patient_id','discharge_disposition_id','discharged_dt_tm']],\n",
    "                      on = 'patient_id',\n",
    "                      how = \"left\"\n",
    "                     )"
   ]
  },
  {
   "cell_type": "code",
   "execution_count": null,
   "metadata": {
    "scrolled": false
   },
   "outputs": [],
   "source": [
    "pat_enc_df.head()"
   ]
  },
  {
   "cell_type": "markdown",
   "metadata": {},
   "source": [
    "# add column for deadOrNot"
   ]
  },
  {
   "cell_type": "code",
   "execution_count": 5,
   "metadata": {},
   "outputs": [],
   "source": [
    "pat_enc_df[\"deadOrAlive\"]=pat_enc_df[\"discharge_disposition_id\"].isin([19.0,20.0,11.0,21.0]) "
   ]
  },
  {
   "cell_type": "code",
   "execution_count": 33,
   "metadata": {},
   "outputs": [
    {
     "data": {
      "text/html": [
       "<div>\n",
       "<style scoped>\n",
       "    .dataframe tbody tr th:only-of-type {\n",
       "        vertical-align: middle;\n",
       "    }\n",
       "\n",
       "    .dataframe tbody tr th {\n",
       "        vertical-align: top;\n",
       "    }\n",
       "\n",
       "    .dataframe thead th {\n",
       "        text-align: right;\n",
       "    }\n",
       "</style>\n",
       "<table border=\"1\" class=\"dataframe\">\n",
       "  <thead>\n",
       "    <tr style=\"text-align: right;\">\n",
       "      <th></th>\n",
       "      <th>patient_id</th>\n",
       "      <th>patient_sk</th>\n",
       "      <th>race</th>\n",
       "      <th>gender</th>\n",
       "      <th>marital_status</th>\n",
       "      <th>encounter_id</th>\n",
       "      <th>discharge_disposition_id</th>\n",
       "      <th>discharged_dt_tm</th>\n",
       "      <th>deadOrAlive</th>\n",
       "    </tr>\n",
       "  </thead>\n",
       "  <tbody>\n",
       "    <tr>\n",
       "      <th>0</th>\n",
       "      <td>291153</td>\n",
       "      <td>109343809</td>\n",
       "      <td>African American</td>\n",
       "      <td>Male</td>\n",
       "      <td>Unknown</td>\n",
       "      <td>528937.0</td>\n",
       "      <td>1.0</td>\n",
       "      <td>2011-07-21 16:50:00</td>\n",
       "      <td>False</td>\n",
       "    </tr>\n",
       "    <tr>\n",
       "      <th>1</th>\n",
       "      <td>291153</td>\n",
       "      <td>109343809</td>\n",
       "      <td>African American</td>\n",
       "      <td>Male</td>\n",
       "      <td>Unknown</td>\n",
       "      <td>154352309.0</td>\n",
       "      <td>1.0</td>\n",
       "      <td>2011-06-10 23:59:00</td>\n",
       "      <td>False</td>\n",
       "    </tr>\n",
       "    <tr>\n",
       "      <th>2</th>\n",
       "      <td>154555</td>\n",
       "      <td>109408557</td>\n",
       "      <td>Caucasian</td>\n",
       "      <td>Female</td>\n",
       "      <td>Single</td>\n",
       "      <td>479956.0</td>\n",
       "      <td>1.0</td>\n",
       "      <td>2010-11-03 23:59:00</td>\n",
       "      <td>False</td>\n",
       "    </tr>\n",
       "    <tr>\n",
       "      <th>3</th>\n",
       "      <td>154555</td>\n",
       "      <td>109408557</td>\n",
       "      <td>Caucasian</td>\n",
       "      <td>Female</td>\n",
       "      <td>Single</td>\n",
       "      <td>154355225.0</td>\n",
       "      <td>1.0</td>\n",
       "      <td>2011-11-12 23:59:00</td>\n",
       "      <td>False</td>\n",
       "    </tr>\n",
       "    <tr>\n",
       "      <th>4</th>\n",
       "      <td>154555</td>\n",
       "      <td>109408557</td>\n",
       "      <td>Caucasian</td>\n",
       "      <td>Female</td>\n",
       "      <td>Single</td>\n",
       "      <td>154893936.0</td>\n",
       "      <td>1.0</td>\n",
       "      <td>2010-12-13 23:59:00</td>\n",
       "      <td>False</td>\n",
       "    </tr>\n",
       "  </tbody>\n",
       "</table>\n",
       "</div>"
      ],
      "text/plain": [
       "   patient_id  patient_sk              race  gender marital_status  \\\n",
       "0      291153   109343809  African American    Male        Unknown   \n",
       "1      291153   109343809  African American    Male        Unknown   \n",
       "2      154555   109408557         Caucasian  Female         Single   \n",
       "3      154555   109408557         Caucasian  Female         Single   \n",
       "4      154555   109408557         Caucasian  Female         Single   \n",
       "\n",
       "   encounter_id  discharge_disposition_id     discharged_dt_tm  deadOrAlive  \n",
       "0      528937.0                       1.0  2011-07-21 16:50:00        False  \n",
       "1   154352309.0                       1.0  2011-06-10 23:59:00        False  \n",
       "2      479956.0                       1.0  2010-11-03 23:59:00        False  \n",
       "3   154355225.0                       1.0  2011-11-12 23:59:00        False  \n",
       "4   154893936.0                       1.0  2010-12-13 23:59:00        False  "
      ]
     },
     "execution_count": 33,
     "metadata": {},
     "output_type": "execute_result"
    }
   ],
   "source": [
    "pat_enc_df.head()"
   ]
  },
  {
   "cell_type": "code",
   "execution_count": 43,
   "metadata": {
    "scrolled": true
   },
   "outputs": [
    {
     "data": {
      "text/plain": [
       "Caucasian                 283756\n",
       "African American          100575\n",
       "Other                      14759\n",
       "Native American             7982\n",
       "Asian                       7910\n",
       "Unknown                     6285\n",
       "Hispanic                    3520\n",
       "Not Mapped                  2105\n",
       "Biracial                    1637\n",
       "Pacific Islander             656\n",
       "Mid Eastern Indian           220\n",
       "Null                         116\n",
       "Asian/Pacific Islander        95\n",
       "Name: race, dtype: int64"
      ]
     },
     "execution_count": 43,
     "metadata": {},
     "output_type": "execute_result"
    }
   ],
   "source": [
    "pat_enc_df['race'].value_counts()"
   ]
  },
  {
   "cell_type": "code",
   "execution_count": 44,
   "metadata": {},
   "outputs": [
    {
     "data": {
      "text/plain": [
       "Married              163283\n",
       "Single               132204\n",
       "Widowed               62240\n",
       "Divorced              39941\n",
       "Null                  11402\n",
       "Legally Separated      6582\n",
       "Unknown                6178\n",
       "NOT MAPPED             4848\n",
       "Life Partner           1633\n",
       "Not Mapped                1\n",
       "Name: marital_status, dtype: int64"
      ]
     },
     "execution_count": 44,
     "metadata": {},
     "output_type": "execute_result"
    }
   ],
   "source": [
    "pat_enc_df['marital_status'].value_counts()"
   ]
  },
  {
   "cell_type": "code",
   "execution_count": 24,
   "metadata": {},
   "outputs": [],
   "source": [
    "pat_enc_df.to_csv(\"gan_pat_df.csv\")"
   ]
  },
  {
   "cell_type": "code",
   "execution_count": 32,
   "metadata": {},
   "outputs": [],
   "source": [
    "top_dia_df.to_csv(\"top200diag.csv\")"
   ]
  }
 ],
 "metadata": {
  "kernelspec": {
   "display_name": "Python 3",
   "language": "python",
   "name": "python3"
  },
  "language_info": {
   "codemirror_mode": {
    "name": "ipython",
    "version": 3
   },
   "file_extension": ".py",
   "mimetype": "text/x-python",
   "name": "python",
   "nbconvert_exporter": "python",
   "pygments_lexer": "ipython3",
   "version": "3.7.3"
  }
 },
 "nbformat": 4,
 "nbformat_minor": 2
}
